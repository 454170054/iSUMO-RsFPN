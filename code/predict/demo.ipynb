{
 "cells": [
  {
   "cell_type": "code",
   "execution_count": 1,
   "outputs": [],
   "source": [
    "from utils import construct_dataset\n",
    "from predict import Predictor"
   ],
   "metadata": {
    "collapsed": false,
    "pycharm": {
     "name": "#%%\n"
    }
   }
  },
  {
   "cell_type": "markdown",
   "source": [
    "# Step 1: set protein sequences"
   ],
   "metadata": {
    "collapsed": false,
    "pycharm": {
     "name": "#%% md\n"
    }
   }
  },
  {
   "cell_type": "code",
   "execution_count": 2,
   "metadata": {
    "collapsed": true
   },
   "outputs": [],
   "source": [
    "seqs = ['MAQKENSYPWPYGRQTAPSGLSTLPQRVLRKEPVTPSALVLMSRSNVQPTAAPGQKVMENSSGTPDILTRHFTIDDFEIGRPLGKGKFGNVYLAREKKSHFIVALKVLFKSQIEKEGVEHQLRREIEIQAHLHHPNILRLYNYFYDRRRIYLILEYAPRGELYKELQKSCTFDEQRTATIMEELADALMYCHGKKVIHRDIKPENLLLGLKGELKIADFGWSVHAPSLRRKTMCGTLDYLPPEMIEGRMHNEKVDLWCIGVLCYELLVGNPPFESASHNETYRRIVKVDLKFPASVPMGAQDLISKLLRHNPSERLPLAQVSAHPWVRANSRRVLPPSALQSVA']"
   ]
  },
  {
   "cell_type": "markdown",
   "source": [
    "# Step 2: split protein sequences"
   ],
   "metadata": {
    "collapsed": false,
    "pycharm": {
     "name": "#%% md\n"
    }
   }
  },
  {
   "cell_type": "code",
   "execution_count": 3,
   "outputs": [],
   "source": [
    "file_path = construct_dataset(seqs)"
   ],
   "metadata": {
    "collapsed": false,
    "pycharm": {
     "name": "#%%\n"
    }
   }
  },
  {
   "cell_type": "markdown",
   "source": [
    "# Step 3: predict"
   ],
   "metadata": {
    "collapsed": false,
    "pycharm": {
     "name": "#%% md\n"
    }
   }
  },
  {
   "cell_type": "code",
   "execution_count": 4,
   "outputs": [
    {
     "name": "stdout",
     "output_type": "stream",
     "text": [
      "WARNING:tensorflow:SavedModel saved prior to TF 2.5 detected when loading Keras model. Please ensure that you are saving the model with model.save() or tf.keras.models.save_model(), *NOT* tf.saved_model.save(). To confirm, there should be a file named \"keras_metadata.pb\" in the SavedModel directory.\n"
     ]
    },
    {
     "name": "stderr",
     "output_type": "stream",
     "text": [
      "WARNING:absl:`input-seq` is not a valid tf.function parameter name. Sanitizing to `input_seq`.\n",
      "WARNING:absl:`input-annotations` is not a valid tf.function parameter name. Sanitizing to `input_annotations`.\n",
      "WARNING:absl:`input-seq` is not a valid tf.function parameter name. Sanitizing to `input_seq`.\n",
      "WARNING:absl:`input-annotations` is not a valid tf.function parameter name. Sanitizing to `input_annotations`.\n"
     ]
    },
    {
     "name": "stdout",
     "output_type": "stream",
     "text": [
      "(22, 39, 5)\n",
      "(22, 39, 5)\n",
      "(22, 39, 128)\n",
      "1/1 [==============================] - 0s 277ms/step\n",
      "1/1 [==============================] - 0s 243ms/step\n",
      "1/1 [==============================] - 0s 235ms/step\n",
      "    protein_id                                 Sequence  Label  probability\n",
      "0            0  XXXXXXXXXXXXXXXXMAQKENSYPWPYGRQTAPSGLST      1     0.814574\n",
      "1            0  YGRQTAPSGLSTLPQRVLRKEPVTPSALVLMSRSNVQPT      1     0.753885\n",
      "2            0  SALVLMSRSNVQPTAAPGQKVMENSSGTPDILTRHFTID      1     0.685871\n",
      "3            0  DILTRHFTIDDFEIGRPLGKGKFGNVYLAREKKSHFIVA      1     0.811577\n",
      "4            0  LTRHFTIDDFEIGRPLGKGKFGNVYLAREKKSHFIVALK      1     0.851841\n",
      "5            0  EIGRPLGKGKFGNVYLAREKKSHFIVALKVLFKSQIEKE      0     0.121615\n",
      "6            0  IGRPLGKGKFGNVYLAREKKSHFIVALKVLFKSQIEKEG      1     0.610140\n",
      "7            0  KFGNVYLAREKKSHFIVALKVLFKSQIEKEGVEHQLRRE      0     0.209838\n",
      "8            0  VYLAREKKSHFIVALKVLFKSQIEKEGVEHQLRREIEIQ      0     0.485869\n",
      "9            0  EKKSHFIVALKVLFKSQIEKEGVEHQLRREIEIQAHLHH      0     0.155988\n",
      "10           0  YDRRRIYLILEYAPRGELYKELQKSCTFDEQRTATIMEE      0     0.297721\n",
      "11           0  RIYLILEYAPRGELYKELQKSCTFDEQRTATIMEELADA      1     0.505256\n",
      "12           0  QRTATIMEELADALMYCHGKKVIHRDIKPENLLLGLKGE      1     0.676767\n",
      "13           0  RTATIMEELADALMYCHGKKVIHRDIKPENLLLGLKGEL      0     0.159085\n",
      "14           0  ELADALMYCHGKKVIHRDIKPENLLLGLKGELKIADFGW      1     0.931395\n",
      "15           0  HGKKVIHRDIKPENLLLGLKGELKIADFGWSVHAPSLRR      1     0.867101\n",
      "16           0  VIHRDIKPENLLLGLKGELKIADFGWSVHAPSLRRKTMC      1     0.751037\n",
      "17           0  GELKIADFGWSVHAPSLRRKTMCGTLDYLPPEMIEGRMH      1     0.558057\n",
      "18           0  CGTLDYLPPEMIEGRMHNEKVDLWCIGVLCYELLVGNPP      0     0.048754\n",
      "19           0  VGNPPFESASHNETYRRIVKVDLKFPASVPMGAQDLISK      1     0.521588\n",
      "20           0  PFESASHNETYRRIVKVDLKFPASVPMGAQDLISKLLRH      1     0.695263\n",
      "21           0  KVDLKFPASVPMGAQDLISKLLRHNPSERLPLAQVSAHP      1     0.816073\n"
     ]
    }
   ],
   "source": [
    "job_id = 'test' # define an id for this job\n",
    "predictor = Predictor()\n",
    "predictor.predict(file_path, job_id)"
   ],
   "metadata": {
    "collapsed": false,
    "pycharm": {
     "name": "#%%\n"
    }
   }
  }
 ],
 "metadata": {
  "kernelspec": {
   "display_name": "Python 3",
   "language": "python",
   "name": "python3"
  },
  "language_info": {
   "codemirror_mode": {
    "name": "ipython",
    "version": 2
   },
   "file_extension": ".py",
   "mimetype": "text/x-python",
   "name": "python",
   "nbconvert_exporter": "python",
   "pygments_lexer": "ipython2",
   "version": "2.7.6"
  }
 },
 "nbformat": 4,
 "nbformat_minor": 0
}